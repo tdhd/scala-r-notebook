{
 "cells": [
  {
   "cell_type": "markdown",
   "metadata": {},
   "source": [
    "# installation\n",
    "\n",
    "- https://github.com/alexarchambault/jupyter-scala\n",
    "- install R\n",
    "- run this notebook\n",
    "- https://dahl-git.byu.edu/dahl/rscala/"
   ]
  },
  {
   "cell_type": "code",
   "execution_count": 1,
   "metadata": {
    "collapsed": false
   },
   "outputs": [
    {
     "name": "stdout",
     "output_type": "stream",
     "text": [
      "2 new artifact(s)"
     ]
    },
    {
     "name": "stderr",
     "output_type": "stream",
     "text": [
      "2 new artifacts in macro"
     ]
    },
    {
     "name": "stdout",
     "output_type": "stream",
     "text": [
      "\n"
     ]
    },
    {
     "name": "stderr",
     "output_type": "stream",
     "text": [
      "\n",
      "2 new artifacts in runtime\n",
      "2 new artifacts in compile\n"
     ]
    },
    {
     "data": {
      "text/plain": []
     },
     "metadata": {},
     "output_type": "display_data"
    }
   ],
   "source": [
    "classpath.add(\n",
    "  \"org.ddahl\" % \"rscala_2.11\" % \"1.0.13\"\n",
    ")"
   ]
  },
  {
   "cell_type": "code",
   "execution_count": 2,
   "metadata": {
    "collapsed": false
   },
   "outputs": [
    {
     "data": {
      "text/plain": [
       "\u001b[36mR\u001b[0m: \u001b[32morg\u001b[0m.\u001b[32mddahl\u001b[0m.\u001b[32mrscala\u001b[0m.\u001b[32mRClient\u001b[0m = org.ddahl.rscala.RClient@5ae3a65d\n",
       "\u001b[36ma\u001b[0m: \u001b[32mDouble\u001b[0m = \u001b[32m0.23525247847090855\u001b[0m\n",
       "\u001b[36mb\u001b[0m: \u001b[32mArray\u001b[0m[\u001b[32mDouble\u001b[0m] = \u001b[33mArray\u001b[0m(\n",
       "  \u001b[32m0.5661725649882923\u001b[0m,\n",
       "  \u001b[32m-0.8623413238389546\u001b[0m,\n",
       "  \u001b[32m1.6853113819962011\u001b[0m,\n",
       "  \u001b[32m0.4531974419039327\u001b[0m,\n",
       "  \u001b[32m0.2729684693509882\u001b[0m,\n",
       "  \u001b[32m-0.7600646748408245\u001b[0m,\n",
       "  \u001b[32m-0.5299417390193462\u001b[0m,\n",
       "  \u001b[32m-0.42470205927607113\u001b[0m\n",
       ")\n",
       "\u001b[36mc\u001b[0m: \u001b[32mArray\u001b[0m[\u001b[32mArray\u001b[0m[\u001b[32mDouble\u001b[0m]] = \u001b[33mArray\u001b[0m(\n",
       "  \u001b[33mArray\u001b[0m(\u001b[32m-0.9461203428136846\u001b[0m, \u001b[32m2.794742895916656\u001b[0m),\n",
       "  \u001b[33mArray\u001b[0m(\u001b[32m-0.1617496623666936\u001b[0m, \u001b[32m0.4097097607095068\u001b[0m),\n",
       "  \u001b[33mArray\u001b[0m(\u001b[32m-0.9852657723730558\u001b[0m, \u001b[32m-0.3320593693964283\u001b[0m),\n",
       "  \u001b[33mArray\u001b[0m(\u001b[32m-0.2666933168776836\u001b[0m, \u001b[32m-0.577568128282279\u001b[0m)\n",
       ")\n",
       "\u001b[36mres1_4\u001b[0m: \u001b[32mAny\u001b[0m = null\n",
       "\u001b[36mv1\u001b[0m: (\u001b[32mAny\u001b[0m, \u001b[32mString\u001b[0m) = \u001b[33m\u001b[0m([I@91b1f41, \u001b[32m\"Array[Int]\"\u001b[0m)\n",
       "\u001b[36mv2\u001b[0m: \u001b[32mArray\u001b[0m[\u001b[32mInt\u001b[0m] = \u001b[33mArray\u001b[0m(\u001b[32m4\u001b[0m, \u001b[32m6\u001b[0m, \u001b[32m2\u001b[0m, \u001b[32m3\u001b[0m, \u001b[32m4\u001b[0m, \u001b[32m3\u001b[0m, \u001b[32m3\u001b[0m, \u001b[32m3\u001b[0m)\n",
       "\u001b[36mv3\u001b[0m: \u001b[32mArray\u001b[0m[\u001b[32mInt\u001b[0m] = \u001b[33mArray\u001b[0m(\u001b[32m4\u001b[0m, \u001b[32m6\u001b[0m, \u001b[32m2\u001b[0m, \u001b[32m3\u001b[0m, \u001b[32m4\u001b[0m, \u001b[32m3\u001b[0m, \u001b[32m3\u001b[0m, \u001b[32m3\u001b[0m)\n",
       "\u001b[36mv4\u001b[0m: \u001b[32mInt\u001b[0m = \u001b[32m4\u001b[0m\n",
       "\u001b[36mv5\u001b[0m: \u001b[32mArray\u001b[0m[\u001b[32mInt\u001b[0m] = \u001b[33mArray\u001b[0m(\u001b[32m4\u001b[0m, \u001b[32m6\u001b[0m, \u001b[32m2\u001b[0m, \u001b[32m3\u001b[0m, \u001b[32m4\u001b[0m, \u001b[32m3\u001b[0m, \u001b[32m3\u001b[0m, \u001b[32m3\u001b[0m)\n",
       "\u001b[36mv6\u001b[0m: \u001b[32mArray\u001b[0m[\u001b[32mArray\u001b[0m[\u001b[32mInt\u001b[0m]] = \u001b[33mArray\u001b[0m(\u001b[33mArray\u001b[0m(\u001b[32m4\u001b[0m, \u001b[32m4\u001b[0m), \u001b[33mArray\u001b[0m(\u001b[32m6\u001b[0m, \u001b[32m3\u001b[0m), \u001b[33mArray\u001b[0m(\u001b[32m2\u001b[0m, \u001b[32m3\u001b[0m), \u001b[33mArray\u001b[0m(\u001b[32m3\u001b[0m, \u001b[32m3\u001b[0m))"
      ]
     },
     "metadata": {},
     "output_type": "display_data"
    }
   ],
   "source": [
    "val R = org.ddahl.rscala.RClient()\n",
    "\n",
    "val a = R.evalD0(\"rnorm(8)\")\n",
    "val b = R.evalD1(\"rnorm(8)\")\n",
    "val c = R.evalD2(\"matrix(rnorm(8),nrow=4)\")\n",
    "\n",
    "// R eval \"install.packages('ggplot2')\"\n",
    "R eval \"\"\"\n",
    "  v <- rbinom(8,size=10,prob=0.4)\n",
    "  m <- matrix(v,nrow=4)\n",
    "\"\"\"\n",
    "val v1 = R.get(\"v\")\n",
    "val v2 = R.get(\"v\")._1.asInstanceOf[Array[Int]]   // This works, but is not very convenient\n",
    "val v3 = R.v._1.asInstanceOf[Array[Int]]          // Slightly better\n",
    "val v4 = R.getI0(\"v\")   // Get the first element of R's \"v\" as a Int\n",
    "val v5 = R.getI1(\"v\")   // Get R's \"v\" as an Array[Int]\n",
    "val v6 = R.getI2(\"m\")   // Get R's \"m\" as an Array[Array[Int]]\n",
    "\n",
    "R.set(\"some_variable\", v5)\n",
    "// R eval \"\"\"\n",
    "//   library(\"ggplot2\")\n",
    "//   ggplot(some_variable) + geom_point()\n",
    "// \"\"\"\n"
   ]
  },
  {
   "cell_type": "code",
   "execution_count": 3,
   "metadata": {
    "collapsed": false
   },
   "outputs": [
    {
     "data": {
      "text/plain": [
       "defined \u001b[32mclass \u001b[36mSeqAug\u001b[0m\n",
       "defined \u001b[32mfunction \u001b[36mplot\u001b[0m\n",
       "defined \u001b[32mfunction \u001b[36mbar\u001b[0m"
      ]
     },
     "metadata": {},
     "output_type": "display_data"
    }
   ],
   "source": [
    "implicit class SeqAug[T](underlying: Seq[T]) {\n",
    "  def toRVector: String = s\"\"\"c${underlying.toString.substring(4)}\"\"\"\n",
    "}\n",
    "\n",
    "def plot(x:List[Int], y:List[Double]) = {\n",
    "  val fname = s\"/tmp/${java.util.UUID.randomUUID.toString}\"\n",
    "  val orig = s\"\"\"plot(${x.toRVector}, ${y.toRVector})\"\"\"\n",
    "  val ss = s\"\"\"\n",
    "  png(filename=\"$fname\")\n",
    "  $orig\n",
    "  dev.off()\n",
    "  \"\"\"\n",
    "  R.eval(ss)\n",
    "    \n",
    "  object Display extends jupyter.api.Display\n",
    "  val pathToFile = new java.io.File(fname)\n",
    "  val image = javax.imageio.ImageIO.read(pathToFile)\n",
    "  Display.png(image)\n",
    "}\n",
    "\n",
    "def bar(values: List[Int]) = {\n",
    "  val fname = s\"/tmp/${java.util.UUID.randomUUID.toString}\"\n",
    "  val orig = s\"\"\"barplot(${values.toRVector})\"\"\"\n",
    "  val ss = s\"\"\"\n",
    "  png(filename=\"$fname\")\n",
    "  $orig\n",
    "  dev.off()\n",
    "  \"\"\"\n",
    "  R.eval(ss)\n",
    "    \n",
    "  object Display extends jupyter.api.Display\n",
    "  val pathToFile = new java.io.File(fname)\n",
    "  val image = javax.imageio.ImageIO.read(pathToFile)\n",
    "  Display.png(image)\n",
    "}\n"
   ]
  },
  {
   "cell_type": "code",
   "execution_count": 4,
   "metadata": {
    "collapsed": false,
    "scrolled": true
   },
   "outputs": [
    {
     "data": {
      "image/png": "[encoded data removed]"
     },
     "metadata": {},
     "output_type": "display_data"
    },
    {
     "data": {
      "image/png": "[encoded data removed]"
     },
     "metadata": {},
     "output_type": "display_data"
    },
    {
     "data": {
      "text/plain": []
     },
     "metadata": {},
     "output_type": "display_data"
    }
   ],
   "source": [
    "plot(v2.toList, v2.map(e => (e*2).toDouble).toList)\n",
    "\n",
    "bar(List(1, 5))"
   ]
  },
  {
   "cell_type": "code",
   "execution_count": 1,
   "metadata": {
    "collapsed": false
   },
   "outputs": [
    {
     "ename": "",
     "evalue": "",
     "output_type": "error",
     "traceback": [
      "\u001b[31mMain.scala:24: not found: value %",
      "%R",
      "^\u001b[0m",
      "\u001b[31mMain.scala:25: not found: value plot",
      "plot(1)",
      "^\u001b[0m"
     ]
    }
   ],
   "source": [
    "// println(Runtime.getRuntime().maxMemory()/1024/1024)\n",
    "%R\n",
    "plot(1)"
   ]
  },
  {
   "cell_type": "code",
   "execution_count": 2,
   "metadata": {
    "collapsed": false
   },
   "outputs": [
    {
     "ename": "",
     "evalue": "",
     "output_type": "error",
     "traceback": [
      "java.io.FileNotFoundException: test.csv (No such file or directory) (test.csv (No such file or directory))",
      "  java.io.FileInputStream.open0(Native Method)",
      "  java.io.FileInputStream.open(FileInputStream.java:195)",
      "  java.io.FileInputStream.<init>(FileInputStream.java:138)",
      "  scala.io.Source$.fromFile(Source.scala:91)",
      "  scala.io.Source$.fromFile(Source.scala:76)",
      "  scala.io.Source$.fromFile(Source.scala:54)",
      "  cmd1$$user$$anonfun$1.apply(Main.scala:24)",
      "  cmd1$$user$$anonfun$1.apply(Main.scala:23)"
     ]
    }
   ],
   "source": [
    "scala.io.Source.fromFile(\"test.csv\").getLines.toList"
   ]
  },
  {
   "cell_type": "code",
   "execution_count": null,
   "metadata": {
    "collapsed": true
   },
   "outputs": [],
   "source": []
  }
 ],
 "metadata": {
  "kernelspec": {
   "display_name": "Scala 2.11",
   "language": "scala211",
   "name": "scala211"
  },
  "language_info": {
   "codemirror_mode": "text/x-scala",
   "file_extension": ".scala",
   "mimetype": "text/x-scala",
   "name": "scala211",
   "pygments_lexer": "scala",
   "version": "2.11.8"
  }
 },
 "nbformat": 4,
 "nbformat_minor": 1
}
