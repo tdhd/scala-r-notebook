{
 "cells": [
  {
   "cell_type": "markdown",
   "metadata": {},
   "source": [
    "# installation\n",
    "\n",
    "- https://github.com/alexarchambault/jupyter-scala\n",
    "- install R\n",
    "- run this notebook\n",
    "- https://dahl-git.byu.edu/dahl/rscala/"
   ]
  },
  {
   "cell_type": "code",
   "execution_count": 11,
   "metadata": {
    "collapsed": false
   },
   "outputs": [
    {
     "name": "stdout",
     "output_type": "stream",
     "text": [
      "0 new artifact(s)\n"
     ]
    },
    {
     "data": {
      "text/plain": []
     },
     "metadata": {},
     "output_type": "display_data"
    }
   ],
   "source": [
    "classpath.add(\n",
    "  \"org.ddahl\" % \"rscala_2.11\" % \"1.0.13\"\n",
    ")"
   ]
  },
  {
   "cell_type": "code",
   "execution_count": 35,
   "metadata": {
    "collapsed": false
   },
   "outputs": [
    {
     "name": "stdout",
     "output_type": "stream",
     "text": [
      "there is no package called ‘ggplot2’\n"
     ]
    },
    {
     "ename": "",
     "evalue": "",
     "output_type": "error",
     "traceback": [
      "java.lang.RuntimeException: Error in R evaluation. (Error in R evaluation.)",
      "  org.ddahl.rscala.RClient.eval(RClient.scala:97)",
      "  cmd34$$user$$anonfun$13.apply(Main.scala:67)"
     ]
    }
   ],
   "source": [
    "val R = org.ddahl.rscala.RClient()\n",
    "\n",
    "val a = R.evalD0(\"rnorm(8)\")\n",
    "val b = R.evalD1(\"rnorm(8)\")\n",
    "val c = R.evalD2(\"matrix(rnorm(8),nrow=4)\")\n",
    "\n",
    "// R eval \"install.packages('ggplot2')\"\n",
    "R eval \"\"\"\n",
    "  v <- rbinom(8,size=10,prob=0.4)\n",
    "  m <- matrix(v,nrow=4)\n",
    "\"\"\"\n",
    "val v1 = R.get(\"v\")\n",
    "val v2 = R.get(\"v\")._1.asInstanceOf[Array[Int]]   // This works, but is not very convenient\n",
    "val v3 = R.v._1.asInstanceOf[Array[Int]]          // Slightly better\n",
    "val v4 = R.getI0(\"v\")   // Get the first element of R's \"v\" as a Int\n",
    "val v5 = R.getI1(\"v\")   // Get R's \"v\" as an Array[Int]\n",
    "val v6 = R.getI2(\"m\")   // Get R's \"m\" as an Array[Array[Int]]\n",
    "\n",
    "R.set(\"some_variable\", v5)\n",
    "R eval \"\"\"\n",
    "  library(\"ggplot2\")\n",
    "  ggplot(some_variable) + geom_point()\n",
    "\"\"\"\n"
   ]
  },
  {
   "cell_type": "code",
   "execution_count": 38,
   "metadata": {
    "collapsed": false
   },
   "outputs": [
    {
     "data": {
      "text/plain": [
       "defined \u001b[32mfunction \u001b[36mplot\u001b[0m"
      ]
     },
     "metadata": {},
     "output_type": "display_data"
    }
   ],
   "source": [
    "def plot(x:List[Int], y:List[Double]) = {\n",
    "  val s = \"plot(\"+\"c\"+x.toString.substring(4)+\",c\"+y.toString.substring(4)+\",xlab=\\\"\\\", ylab=\\\"\\\", type=\\\"b\\\", col=\\\"red\\\",main=\\\"graph\\\")\"\n",
    "  println(s)\n",
    "  R.eval(s)\n",
    "}\n"
   ]
  },
  {
   "cell_type": "code",
   "execution_count": 39,
   "metadata": {
    "collapsed": false
   },
   "outputs": [
    {
     "name": "stdout",
     "output_type": "stream",
     "text": [
      "plot(c(5, 7, 4, 4, 5, 3, 3, 1),c(10.0, 14.0, 8.0, 8.0, 10.0, 6.0, 6.0, 2.0),xlab=\"\", ylab=\"\", type=\"b\", col=\"red\",main=\"graph\")\n"
     ]
    },
    {
     "data": {
      "text/plain": [
       "\u001b[36mres38\u001b[0m: \u001b[32mAny\u001b[0m = null"
      ]
     },
     "metadata": {},
     "output_type": "display_data"
    }
   ],
   "source": [
    "plot(v2.toList, v2.map(e => (e*2).toDouble).toList)"
   ]
  },
  {
   "cell_type": "code",
   "execution_count": 22,
   "metadata": {
    "collapsed": false
   },
   "outputs": [
    {
     "data": {
      "text/plain": [
       "\u001b[36mres21\u001b[0m: \u001b[32mString\u001b[0m = \u001b[32m\"(2, 3, 4, 3, 4, 3, 4, 3)\"\u001b[0m"
      ]
     },
     "metadata": {},
     "output_type": "display_data"
    }
   ],
   "source": [
    "v2.toList.toString.substring(4)"
   ]
  },
  {
   "cell_type": "code",
   "execution_count": null,
   "metadata": {
    "collapsed": true
   },
   "outputs": [],
   "source": []
  }
 ],
 "metadata": {
  "kernelspec": {
   "display_name": "Scala 2.11",
   "language": "scala211",
   "name": "scala211"
  },
  "language_info": {
   "codemirror_mode": "text/x-scala",
   "file_extension": ".scala",
   "mimetype": "text/x-scala",
   "name": "scala211",
   "pygments_lexer": "scala",
   "version": "2.11.8"
  }
 },
 "nbformat": 4,
 "nbformat_minor": 1
}
