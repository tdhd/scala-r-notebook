{
 "cells": [
  {
   "cell_type": "markdown",
   "metadata": {},
   "source": [
    "# installation\n",
    "\n",
    "- https://github.com/alexarchambault/jupyter-scala\n",
    "- install R\n",
    "- run this notebook\n",
    "- https://dahl-git.byu.edu/dahl/rscala/"
   ]
  },
  {
   "cell_type": "code",
   "execution_count": 20,
   "metadata": {
    "collapsed": false
   },
   "outputs": [
    {
     "name": "stdout",
     "output_type": "stream",
     "text": [
      "0 new artifact(s)\n"
     ]
    },
    {
     "data": {
      "text/plain": []
     },
     "metadata": {},
     "output_type": "display_data"
    }
   ],
   "source": [
    "classpath.add(\n",
    "  \"org.ddahl\" %% \"rscala\" % \"1.0.13\",\n",
    "  \"com.github.haifengl\" % \"smile-core\" % \"1.2.0\",\n",
    "  \"org.apache.spark\" %% \"spark-mllib\" % \"2.0.0\"\n",
    ")"
   ]
  },
  {
   "cell_type": "code",
   "execution_count": 21,
   "metadata": {
    "collapsed": false
   },
   "outputs": [
    {
     "data": {
      "text/plain": [
       "\u001b[32mimport \u001b[36morg.apache.spark.mllib.linalg.Vectors\u001b[0m\n",
       "\u001b[32mimport \u001b[36morg.apache.spark.mllib.regression.LabeledPoint\u001b[0m\n",
       "\u001b[36mpos\u001b[0m: \u001b[32mLabeledPoint\u001b[0m = (1.0,[1.0,0.0,3.0])\n",
       "\u001b[36mneg\u001b[0m: \u001b[32mLabeledPoint\u001b[0m = (0.0,(3,[0,2],[1.0,3.0]))\n",
       "\u001b[32mimport \u001b[36morg.apache.spark.mllib.linalg.{Matrix, Matrices}\u001b[0m\n",
       "\u001b[36mdm\u001b[0m: \u001b[32mMatrix\u001b[0m = 1.0  2.0  \n",
       "3.0  4.0  \n",
       "5.0  6.0  \n",
       "\u001b[36msm\u001b[0m: \u001b[32mMatrix\u001b[0m = 3 x 2 CSCMatrix\n",
       "(0,0) 9.0\n",
       "(2,1) 6.0\n",
       "(1,1) 8.0"
      ]
     },
     "metadata": {},
     "output_type": "display_data"
    }
   ],
   "source": [
    "import org.apache.spark.mllib.linalg.Vectors\n",
    "import org.apache.spark.mllib.regression.LabeledPoint\n",
    "\n",
    "\n",
    "// Create a labeled point with a positive label and a dense feature vector.\n",
    "val pos = LabeledPoint(1.0, Vectors.dense(1.0, 0.0, 3.0))\n",
    "\n",
    "// Create a labeled point with a negative label and a sparse feature vector.\n",
    "val neg = LabeledPoint(0.0, Vectors.sparse(3, Array(0, 2), Array(1.0, 3.0)))\n",
    "\n",
    "\n",
    "import org.apache.spark.mllib.linalg.{Matrix, Matrices}\n",
    "\n",
    "// Create a dense matrix ((1.0, 2.0), (3.0, 4.0), (5.0, 6.0))\n",
    "val dm: Matrix = Matrices.dense(3, 2, Array(1.0, 3.0, 5.0, 2.0, 4.0, 6.0))\n",
    "\n",
    "// Create a sparse matrix ((9.0, 0.0), (0.0, 8.0), (0.0, 6.0))\n",
    "val sm: Matrix = Matrices.sparse(3, 2, Array(0, 1, 3), Array(0, 2, 1), Array(9, 6, 8))\n",
    "\n",
    "\n",
    "// import org.apache.spark.mllib.tree.DecisionTree\n",
    "// import org.apache.spark.mllib.tree.model.DecisionTreeModel\n",
    "// import org.apache.spark.mllib.util.MLUtils\n",
    "\n",
    "// // Train a DecisionTree model.\n",
    "// //  Empty categoricalFeaturesInfo indicates all features are continuous.\n",
    "// val numClasses = 2\n",
    "// val categoricalFeaturesInfo = Map[Int, Int]()\n",
    "// val impurity = \"gini\"\n",
    "// val maxDepth = 5\n",
    "// val maxBins = 32\n",
    "\n",
    "// val model = DecisionTree.trainClassifier(pos, numClasses, categoricalFeaturesInfo, impurity, maxDepth, maxBins)"
   ]
  },
  {
   "cell_type": "code",
   "execution_count": 22,
   "metadata": {
    "collapsed": false
   },
   "outputs": [
    {
     "data": {
      "text/plain": [
       "\u001b[36mR\u001b[0m: \u001b[32morg\u001b[0m.\u001b[32mddahl\u001b[0m.\u001b[32mrscala\u001b[0m.\u001b[32mRClient\u001b[0m = org.ddahl.rscala.RClient@5c6236f"
      ]
     },
     "metadata": {},
     "output_type": "display_data"
    }
   ],
   "source": [
    "val R = org.ddahl.rscala.RClient()\n",
    "\n",
    "// val a = R.evalD0(\"rnorm(8)\")\n",
    "// val b = R.evalD1(\"rnorm(8)\")\n",
    "// val c = R.evalD2(\"matrix(rnorm(8),nrow=4)\")\n",
    "\n",
    "// // R eval \"install.packages('ggplot2')\"\n",
    "// R eval \"\"\"\n",
    "//   v <- rbinom(8,size=10,prob=0.4)\n",
    "//   m <- matrix(v,nrow=4)\n",
    "// \"\"\"\n",
    "// val v1 = R.get(\"v\")\n",
    "// val v2 = R.get(\"v\")._1.asInstanceOf[Array[Int]]   // This works, but is not very convenient\n",
    "// val v3 = R.v._1.asInstanceOf[Array[Int]]          // Slightly better\n",
    "// val v4 = R.getI0(\"v\")   // Get the first element of R's \"v\" as a Int\n",
    "// val v5 = R.getI1(\"v\")   // Get R's \"v\" as an Array[Int]\n",
    "// val v6 = R.getI2(\"m\")   // Get R's \"m\" as an Array[Array[Int]]\n",
    "\n",
    "// R.set(\"some_variable\", v5)\n",
    "// R eval \"\"\"\n",
    "//   library(\"ggplot2\")\n",
    "//   ggplot(some_variable) + geom_point()\n",
    "// \"\"\"\n"
   ]
  },
  {
   "cell_type": "code",
   "execution_count": 23,
   "metadata": {
    "collapsed": false
   },
   "outputs": [
    {
     "data": {
      "text/plain": [
       "defined \u001b[32mclass \u001b[36mSeqAug\u001b[0m\n",
       "defined \u001b[32mfunction \u001b[36mplot\u001b[0m\n",
       "defined \u001b[32mfunction \u001b[36mbar\u001b[0m"
      ]
     },
     "metadata": {},
     "output_type": "display_data"
    }
   ],
   "source": [
    "implicit class SeqAug[T](underlying: Seq[T]) {\n",
    "  def toRVector: String = s\"\"\"c${underlying.toString.substring(4)}\"\"\"\n",
    "}\n",
    "\n",
    "def plot(x:List[Int], y:List[Double]) = {\n",
    "  val fname = s\"/tmp/${java.util.UUID.randomUUID.toString}\"\n",
    "  val orig = s\"\"\"plot(${x.toRVector}, ${y.toRVector})\"\"\"\n",
    "  val ss = s\"\"\"\n",
    "  png(filename=\"$fname\")\n",
    "  $orig\n",
    "  dev.off()\n",
    "  \"\"\"\n",
    "  R.eval(ss)\n",
    "    \n",
    "  object Display extends jupyter.api.Display\n",
    "  val pathToFile = new java.io.File(fname)\n",
    "  val image = javax.imageio.ImageIO.read(pathToFile)\n",
    "  Display.png(image)\n",
    "}\n",
    "\n",
    "def bar(values: List[Int]) = {\n",
    "  val fname = s\"/tmp/${java.util.UUID.randomUUID.toString}\"\n",
    "  val orig = s\"\"\"barplot(${values.toRVector})\"\"\"\n",
    "  val ss = s\"\"\"\n",
    "  png(filename=\"$fname\")\n",
    "  $orig\n",
    "  dev.off()\n",
    "  \"\"\"\n",
    "  R.eval(ss)\n",
    "    \n",
    "  object Display extends jupyter.api.Display\n",
    "  val pathToFile = new java.io.File(fname)\n",
    "  val image = javax.imageio.ImageIO.read(pathToFile)\n",
    "  Display.png(image)\n",
    "}\n"
   ]
  },
  {
   "cell_type": "code",
   "execution_count": 24,
   "metadata": {
    "collapsed": false,
    "scrolled": true
   },
   "outputs": [
    {
     "data": {
      "image/png": "[encoded data removed]"
     },
     "metadata": {},
     "output_type": "display_data"
    },
    {
     "data": {
      "image/png": "[encoded data removed]"
     },
     "metadata": {},
     "output_type": "display_data"
    },
    {
     "data": {
      "text/plain": []
     },
     "metadata": {},
     "output_type": "display_data"
    }
   ],
   "source": [
    "plot(v2.toList, v2.map(e => (e*2).toDouble).toList)\n",
    "\n",
    "bar(List(1, 5))"
   ]
  },
  {
   "cell_type": "code",
   "execution_count": null,
   "metadata": {
    "collapsed": false
   },
   "outputs": [],
   "source": []
  },
  {
   "cell_type": "code",
   "execution_count": 25,
   "metadata": {
    "collapsed": false
   },
   "outputs": [
    {
     "data": {
      "text/plain": [
       "\u001b[36mres24\u001b[0m: \u001b[32mIterator\u001b[0m[\u001b[32mUnit\u001b[0m] = non-empty iterator"
      ]
     },
     "metadata": {},
     "output_type": "display_data"
    }
   ],
   "source": [
    "scala.io.Source.fromFile(\"/home/temp/kaggle-bosch/data/train_numeric.csv\").getLines.take(100).map {\n",
    "    case line => println(line)\n",
    "}"
   ]
  },
  {
   "cell_type": "code",
   "execution_count": null,
   "metadata": {
    "collapsed": true
   },
   "outputs": [],
   "source": []
  }
 ],
 "metadata": {
  "kernelspec": {
   "display_name": "Scala 2.11",
   "language": "scala211",
   "name": "scala211"
  },
  "language_info": {
   "codemirror_mode": "text/x-scala",
   "file_extension": ".scala",
   "mimetype": "text/x-scala",
   "name": "scala211",
   "pygments_lexer": "scala",
   "version": "2.11.8"
  }
 },
 "nbformat": 4,
 "nbformat_minor": 1
}
